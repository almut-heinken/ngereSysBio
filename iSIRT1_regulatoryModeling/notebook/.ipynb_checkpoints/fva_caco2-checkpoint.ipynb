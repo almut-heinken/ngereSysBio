{
 "cells": [
  {
   "cell_type": "code",
   "execution_count": 1,
   "id": "187d1f0f-c8ed-4489-a54b-0a29de2e50ed",
   "metadata": {},
   "outputs": [],
   "source": [
    "import pandas as pd"
   ]
  },
  {
   "cell_type": "code",
   "execution_count": 2,
   "id": "ad78c176-cb58-4471-a04f-c6559ceb09bc",
   "metadata": {},
   "outputs": [],
   "source": [
    "# Path to your Excel file\n",
    "file_path = \"..\\\\data\\\\caco2\\\\DMEM.xlsx\""
   ]
  },
  {
   "cell_type": "code",
   "execution_count": 3,
   "id": "7ca3c614-d5db-4c06-9d1a-052ac5deeda6",
   "metadata": {},
   "outputs": [],
   "source": [
    "df = pd.read_excel(file_path, header=2).set_index(\"Reaction ID\")"
   ]
  },
  {
   "cell_type": "code",
   "execution_count": 4,
   "id": "ac18586c-b027-4036-b739-0c5a7ea5ba28",
   "metadata": {},
   "outputs": [],
   "source": [
    "df.columns = [\"description\", \"uptake\"]"
   ]
  },
  {
   "cell_type": "code",
   "execution_count": 5,
   "id": "2b8ed370-f3d8-46a9-abe3-02653d381496",
   "metadata": {},
   "outputs": [],
   "source": [
    "medium = df.to_dict()[\"uptake\"]"
   ]
  },
  {
   "cell_type": "code",
   "execution_count": 6,
   "id": "f7b7b8b6-1785-4411-a355-edfda8534fc3",
   "metadata": {},
   "outputs": [],
   "source": [
    "sbml_fname = \"..\\\\data\\\\models\\\\sirt1_recon3d\\\\iSIRT1.xml\"\n",
    "trn_fname = \"..\\\\data\\\\pypath\\\\regulatory_rules.csv\""
   ]
  },
  {
   "cell_type": "code",
   "execution_count": 7,
   "id": "29f206d1-6956-4fe1-be16-405f2f7bd2c0",
   "metadata": {},
   "outputs": [],
   "source": [
    "from mewpy.io import Reader, Engines, read_model\n",
    "from mewpy.germ.analysis import ifva, regulatory_truth_table, get_real_initial_state\n",
    "from mewpy.germ.analysis.analysis_utils import decode_solver_solution, run_method_and_decode\n",
    "from mewpy.germ.analysis import SRFBA"
   ]
  },
  {
   "cell_type": "code",
   "execution_count": 8,
   "id": "0bc96b9b-2152-431d-a0e1-d4a3d59c6b07",
   "metadata": {},
   "outputs": [],
   "source": [
    "recon_reader = Reader(Engines.MetabolicSBML, sbml_fname)\n",
    "trn_reader = Reader(Engines.BooleanRegulatoryCSV,\n",
    "                            trn_fname, sep=',', id_col=0, rule_col=1, header=0)\n",
    "model_sirt1 = read_model(recon_reader, trn_reader)"
   ]
  },
  {
   "cell_type": "code",
   "execution_count": 9,
   "id": "cd99e651-7537-40f1-9389-6d81aa6d76af",
   "metadata": {
    "scrolled": true
   },
   "outputs": [
    {
     "name": "stdout",
     "output_type": "stream",
     "text": [
      "EX_aqcobal[e] (-1, 1000)\n",
      "EX_chol[e] (-1, 1000)\n",
      "EX_hco3[e] (-100, 1000)\n",
      "EX_inost[e] (-1, 1000)\n",
      "EX_lipoate[e] (-1, 1000)\n",
      "EX_lnlc[e] (-1, 1000)\n",
      "EX_ncam[e] (-1, 1000)\n",
      "EX_thf[e] (-1, 1000)\n",
      "EX_co2[e] (-100, 1000)\n",
      "EX_fe2[e] (-1, 1000)\n",
      "EX_fe3[e] (-1, 1000)\n",
      "EX_h2o[e] (-100, 1000)\n",
      "EX_ile_L[e] (-1, 1000)\n",
      "EX_k[e] (-1, 1000)\n",
      "EX_leu_L[e] (-1, 1000)\n",
      "EX_lys_L[e] (-1, 1000)\n",
      "EX_met_L[e] (-1, 1000)\n",
      "EX_o2[e] (-100, 1000)\n",
      "EX_pi[e] (-10, 1000)\n",
      "EX_pro_L[e] (-1, 1000)\n",
      "EX_ribflv[e] (-1, 1000)\n",
      "EX_ser_L[e] (-1, 1000)\n",
      "EX_so4[e] (-1, 1000)\n",
      "EX_val_L[e] (-1, 1000)\n",
      "EX_pnto_R[e] (-1, 1000)\n",
      "EX_gly[e] (-1, 1000)\n",
      "EX_cys_L[e] (-1, 1000)\n",
      "EX_ala_L[e] (-1, 1000)\n",
      "EX_his_L[e] (-1, 1000)\n",
      "EX_thr_L[e] (-1, 1000)\n",
      "EX_gln_L[e] (-1, 1000)\n",
      "EX_phe_L[e] (-1, 1000)\n",
      "EX_tyr_L[e] (-1, 1000)\n",
      "EX_arg_L[e] (-1, 1000)\n",
      "EX_fol[e] (-1, 1000)\n",
      "EX_thm[e] (-1, 1000)\n",
      "EX_trp_L[e] (-1, 1000)\n",
      "EX_pydxn[e] (-1, 1000)\n",
      "EX_pyr[e] (-1, 1000)\n",
      "EX_btn[e] (-1, 1000)\n",
      "EX_glc_D[e] (-5, 1000)\n"
     ]
    }
   ],
   "source": [
    "for ex in model_sirt1.exchanges:\n",
    "    exchange = model_sirt1.get(ex)\n",
    "    if ex in medium:\n",
    "        exchange.bounds = (-1*medium[ex], 1000)\n",
    "    else:\n",
    "        exchange.bounds = (0, 1000)"
   ]
  },
  {
   "cell_type": "code",
   "execution_count": 10,
   "id": "852dba20-cf56-4b68-8a42-fbb7f25e3a3d",
   "metadata": {},
   "outputs": [],
   "source": [
    "for rxn in model_sirt1.reactions.keys():\n",
    "    if \"sink\" in rxn:\n",
    "        model_sirt1.get(rxn).bounds = (0,0)"
   ]
  },
  {
   "cell_type": "code",
   "execution_count": 11,
   "id": "21cb77af-bc45-4d4b-b530-e406b9dadeda",
   "metadata": {},
   "outputs": [
    {
     "data": {
      "text/html": [
       "\n",
       "            <table>\n",
       "                <tr><th>Identifier</th><td>EX_inost[e]</td></tr><tr><th>Name</th><td></td></tr><tr><th>Aliases</th><td></td></tr><tr><th>Model</th><td>Recon3DModel</td></tr><tr><th>Types</th><td>reaction</td></tr><tr><th>Equation</th><td>1.0 inost[e] <-> </td></tr><tr><th>Bounds</th><td>(-1, 1000)</td></tr><tr><th>Reversibility</th><td>True</td></tr><tr><th>Metabolites</th><td>inost[e]</td></tr><tr><th>Boundary</th><td>True</td></tr><tr><th>GPR</th><td></td></tr><tr><th>Genes</th><td></td></tr><tr><th>Compartments</th><td>e</td></tr><tr><th>Charge balance</th><td>{'reactants': 0.0, 'products': 0}</td></tr><tr><th>Mass balance</th><td>{'C': -6.0, 'H': -12.0, 'O': -6.0}</td></tr>\n",
       "            </table>\n",
       "        "
      ],
      "text/plain": [
       "EX_inost[e] || 1.0 inost[e] <-> "
      ]
     },
     "execution_count": 11,
     "metadata": {},
     "output_type": "execute_result"
    }
   ],
   "source": [
    "model_sirt1.get(\"EX_inost[e]\")"
   ]
  },
  {
   "cell_type": "code",
   "execution_count": 12,
   "id": "c28723c7-7b1f-44e4-9528-ffbb0749f3ad",
   "metadata": {},
   "outputs": [],
   "source": [
    "model_sirt1.get(\"EX_glyc[e]\").bounds = (-1,1000)\n",
    "model_sirt1.get(\"EX_chsterol[e]\").bounds = (-1,1000)\n",
    "model_sirt1.get(\"EX_hco3[e]\").bounds = (-1,1000)\n",
    "model_sirt1.get(\"EX_nh4[e]\").bounds = (-1,1000)\n",
    "model_sirt1.get(\"EX_adp[e]\").bounds = (-10,1000)\n",
    "model_sirt1.get(\"EX_creat[e]\").bounds = (-10,1000)\n",
    "model_sirt1.get(\"EX_11_cis_retfa[e]\").bounds = (-1,1000)"
   ]
  },
  {
   "cell_type": "code",
   "execution_count": 13,
   "id": "889371de-cdc7-4f81-becc-92f4c40ba146",
   "metadata": {},
   "outputs": [],
   "source": [
    "butyrate_flux = 0.01\n",
    "model_sirt1.get(\"EX_but[e]\").bounds = (-10*butyrate_flux, 1000)\n",
    "sirt1_expression = max(0, -6.116 * butyrate_flux + 0.945)"
   ]
  },
  {
   "cell_type": "code",
   "execution_count": 14,
   "id": "6f4490d2-7954-43af-9bbb-fc9cd09d9dc9",
   "metadata": {},
   "outputs": [
    {
     "data": {
      "text/plain": [
       "0.88384"
      ]
     },
     "execution_count": 14,
     "metadata": {},
     "output_type": "execute_result"
    }
   ],
   "source": [
    "sirt1_expression"
   ]
  },
  {
   "cell_type": "code",
   "execution_count": 15,
   "id": "9b6c89cd-781d-489f-9a9c-eb4fa221f304",
   "metadata": {},
   "outputs": [],
   "source": [
    "initial_state = get_real_initial_state(model_sirt1, initial_state={\"SIRT1\": sirt1_expression}, strategy=\"mean\")"
   ]
  },
  {
   "cell_type": "code",
   "execution_count": 16,
   "id": "a043a21c-9d30-464a-a358-28f9bfd52377",
   "metadata": {},
   "outputs": [],
   "source": [
    "model_sirt1.objective = {\"biomass_reaction\":1.0}"
   ]
  },
  {
   "cell_type": "code",
   "execution_count": 17,
   "id": "617de77b-a0c9-4e00-976b-37a6432fb2d4",
   "metadata": {},
   "outputs": [],
   "source": [
    "srfba_sirt1 = SRFBA(model_sirt1).build()"
   ]
  },
  {
   "cell_type": "code",
   "execution_count": 18,
   "id": "6f78b00d-981a-402f-baf6-309d5939b4de",
   "metadata": {},
   "outputs": [],
   "source": [
    "sol = srfba_sirt1.optimize(initial_state=initial_state)"
   ]
  },
  {
   "cell_type": "code",
   "execution_count": 19,
   "id": "4ce498c8-637e-4c43-81c5-faf856a104c1",
   "metadata": {},
   "outputs": [
    {
     "data": {
      "text/html": [
       "\n",
       "        <table>\n",
       "            <tr>\n",
       "                <td>Method</td>\n",
       "                <td>SRFBA</td>\n",
       "            </tr>\n",
       "            <tr>\n",
       "                <td>Model</td>\n",
       "                <td>Model Recon3DModel - model</td>\n",
       "            </tr>\n",
       "            <tr>\n",
       "                <th>Objective</th>\n",
       "                <td>biomass_reaction</td>\n",
       "            </tr>\n",
       "            <tr>\n",
       "                <th>Objective value</th>\n",
       "                <td>1.688863968762772</td>\n",
       "            </tr>\n",
       "            <tr>\n",
       "                <th>Status</th>\n",
       "                <td>optimal</td>\n",
       "            </tr>\n",
       "        </table>\n",
       "        "
      ],
      "text/plain": [
       "SRFBA Solution\n",
       " Objective value: 1.688863968762772\n",
       " Status: optimal"
      ]
     },
     "execution_count": 19,
     "metadata": {},
     "output_type": "execute_result"
    }
   ],
   "source": [
    "sol"
   ]
  },
  {
   "cell_type": "code",
   "execution_count": 21,
   "id": "88efc0d0-7864-4db6-8cf9-06dd083ae74c",
   "metadata": {},
   "outputs": [],
   "source": [
    "from cobra.io import read_sbml_model\n",
    "import cobra\n",
    "config = cobra.Configuration()\n",
    "config.solver = 'cplex'"
   ]
  },
  {
   "cell_type": "code",
   "execution_count": 22,
   "id": "fc42f124-4191-4be9-8c61-4b3459363cc3",
   "metadata": {},
   "outputs": [],
   "source": [
    "cobraModel = read_sbml_model(sbml_fname)"
   ]
  },
  {
   "cell_type": "code",
   "execution_count": 23,
   "id": "e1b65339-1291-453a-af79-cbf20314ed24",
   "metadata": {},
   "outputs": [],
   "source": [
    "for rxn in cobraModel.exchanges:\n",
    "    reaction = cobraModel.reactions.get_by_id(rxn.id)\n",
    "    if rxn.id in medium:\n",
    "        reaction.lower_bound = -1*medium[rxn.id]\n",
    "        reaction.upper_bound = 1000\n",
    "    else:\n",
    "        reaction.lower_bound = 0\n",
    "        reaction.upper_bound = 1000"
   ]
  },
  {
   "cell_type": "code",
   "execution_count": 28,
   "id": "78a59bb7-ce45-4c18-8f9c-7a95ac59aa6b",
   "metadata": {},
   "outputs": [],
   "source": [
    "for rxn in cobraModel.reactions:\n",
    "    if \"sink\" in rxn.id:\n",
    "        reaction = cobraModel.reactions.get_by_id(rxn.id)\n",
    "        reaction.lower_bound = 0\n",
    "        reaction.upper_bound = 0"
   ]
  },
  {
   "cell_type": "code",
   "execution_count": 29,
   "id": "d1388c6b-5023-4a0f-b22d-62672ca3eaac",
   "metadata": {},
   "outputs": [],
   "source": [
    "opt = cobraModel.optimize()"
   ]
  },
  {
   "cell_type": "code",
   "execution_count": 30,
   "id": "8aca8881-87b9-4a9b-8a47-fad77bed7ff6",
   "metadata": {},
   "outputs": [
    {
     "data": {
      "text/html": [
       "<strong><em>Optimal</em> solution with objective value 1.689</strong><br><div>\n",
       "<style scoped>\n",
       "    .dataframe tbody tr th:only-of-type {\n",
       "        vertical-align: middle;\n",
       "    }\n",
       "\n",
       "    .dataframe tbody tr th {\n",
       "        vertical-align: top;\n",
       "    }\n",
       "\n",
       "    .dataframe thead th {\n",
       "        text-align: right;\n",
       "    }\n",
       "</style>\n",
       "<table border=\"1\" class=\"dataframe\">\n",
       "  <thead>\n",
       "    <tr style=\"text-align: right;\">\n",
       "      <th></th>\n",
       "      <th>fluxes</th>\n",
       "      <th>reduced_costs</th>\n",
       "    </tr>\n",
       "  </thead>\n",
       "  <tbody>\n",
       "    <tr>\n",
       "      <th>10FTHF5GLUtl</th>\n",
       "      <td>0.0</td>\n",
       "      <td>0.0</td>\n",
       "    </tr>\n",
       "    <tr>\n",
       "      <th>10FTHF5GLUtm</th>\n",
       "      <td>0.0</td>\n",
       "      <td>0.0</td>\n",
       "    </tr>\n",
       "    <tr>\n",
       "      <th>10FTHF6GLUtl</th>\n",
       "      <td>0.0</td>\n",
       "      <td>0.0</td>\n",
       "    </tr>\n",
       "    <tr>\n",
       "      <th>10FTHF6GLUtm</th>\n",
       "      <td>0.0</td>\n",
       "      <td>0.0</td>\n",
       "    </tr>\n",
       "    <tr>\n",
       "      <th>10FTHF7GLUtl</th>\n",
       "      <td>0.0</td>\n",
       "      <td>0.0</td>\n",
       "    </tr>\n",
       "    <tr>\n",
       "      <th>...</th>\n",
       "      <td>...</td>\n",
       "      <td>...</td>\n",
       "    </tr>\n",
       "    <tr>\n",
       "      <th>CITtn</th>\n",
       "      <td>0.0</td>\n",
       "      <td>0.0</td>\n",
       "    </tr>\n",
       "    <tr>\n",
       "      <th>DM_adprbp[n]</th>\n",
       "      <td>0.0</td>\n",
       "      <td>0.0</td>\n",
       "    </tr>\n",
       "    <tr>\n",
       "      <th>EX_adprbp[n]</th>\n",
       "      <td>0.0</td>\n",
       "      <td>0.0</td>\n",
       "    </tr>\n",
       "    <tr>\n",
       "      <th>R_SIRT1</th>\n",
       "      <td>0.0</td>\n",
       "      <td>0.0</td>\n",
       "    </tr>\n",
       "    <tr>\n",
       "      <th>LYSACn</th>\n",
       "      <td>0.0</td>\n",
       "      <td>0.0</td>\n",
       "    </tr>\n",
       "  </tbody>\n",
       "</table>\n",
       "<p>10607 rows × 2 columns</p>\n",
       "</div>"
      ],
      "text/plain": [
       "<Solution 1.689 at 0x288480016c0>"
      ]
     },
     "execution_count": 30,
     "metadata": {},
     "output_type": "execute_result"
    }
   ],
   "source": [
    "opt"
   ]
  },
  {
   "cell_type": "code",
   "execution_count": 26,
   "id": "12add050-d255-469c-865d-de91f5642286",
   "metadata": {},
   "outputs": [
    {
     "name": "stdout",
     "output_type": "stream",
     "text": [
      "          fluxes  reduced_costs\n",
      "r0391     1000.0   8.921461e-02\n",
      "AKGDm     1000.0   8.921461e-02\n",
      "ATPS4mi   1000.0   8.921461e-02\n",
      "ENO       1000.0   6.691095e-02\n",
      "PGMT      1000.0   2.230365e-02\n",
      "GAPD      1000.0   2.230365e-02\n",
      "EX_pi[e]  1000.0   2.230365e-02\n",
      "TALA      1000.0   2.230365e-02\n",
      "TRDR      1000.0   2.230365e-02\n",
      "URIK1        0.0   1.110223e-16\n"
     ]
    }
   ],
   "source": [
    "# Create a DataFrame from the solution's fluxes and reduced costs\n",
    "results = pd.DataFrame({\n",
    "    'fluxes': opt.fluxes,\n",
    "    'reduced_costs': opt.reduced_costs\n",
    "})\n",
    "\n",
    "# Sort by reduced costs in ascending order to see the most critical (negative) ones first\n",
    "sorted_results = results.sort_values(by='reduced_costs', ascending=False)\n",
    "\n",
    "# Display the top 10 most critical reactions\n",
    "print(sorted_results.head(10))"
   ]
  },
  {
   "cell_type": "code",
   "execution_count": 27,
   "id": "56977274-1ea5-449c-af53-7d301a0b8ce4",
   "metadata": {},
   "outputs": [
    {
     "data": {
      "text/html": [
       "<div>\n",
       "<style scoped>\n",
       "    .dataframe tbody tr th:only-of-type {\n",
       "        vertical-align: middle;\n",
       "    }\n",
       "\n",
       "    .dataframe tbody tr th {\n",
       "        vertical-align: top;\n",
       "    }\n",
       "\n",
       "    .dataframe thead th {\n",
       "        text-align: right;\n",
       "    }\n",
       "</style>\n",
       "<table border=\"1\" class=\"dataframe\">\n",
       "  <thead>\n",
       "    <tr style=\"text-align: right;\">\n",
       "      <th></th>\n",
       "      <th>fluxes</th>\n",
       "      <th>reduced_costs</th>\n",
       "    </tr>\n",
       "  </thead>\n",
       "  <tbody>\n",
       "    <tr>\n",
       "      <th>r0391</th>\n",
       "      <td>1000.000000</td>\n",
       "      <td>8.921461e-02</td>\n",
       "    </tr>\n",
       "    <tr>\n",
       "      <th>AKGDm</th>\n",
       "      <td>1000.000000</td>\n",
       "      <td>8.921461e-02</td>\n",
       "    </tr>\n",
       "    <tr>\n",
       "      <th>ATPS4mi</th>\n",
       "      <td>1000.000000</td>\n",
       "      <td>8.921461e-02</td>\n",
       "    </tr>\n",
       "    <tr>\n",
       "      <th>ENO</th>\n",
       "      <td>1000.000000</td>\n",
       "      <td>6.691095e-02</td>\n",
       "    </tr>\n",
       "    <tr>\n",
       "      <th>PGMT</th>\n",
       "      <td>1000.000000</td>\n",
       "      <td>2.230365e-02</td>\n",
       "    </tr>\n",
       "    <tr>\n",
       "      <th>GAPD</th>\n",
       "      <td>1000.000000</td>\n",
       "      <td>2.230365e-02</td>\n",
       "    </tr>\n",
       "    <tr>\n",
       "      <th>EX_pi[e]</th>\n",
       "      <td>1000.000000</td>\n",
       "      <td>2.230365e-02</td>\n",
       "    </tr>\n",
       "    <tr>\n",
       "      <th>TALA</th>\n",
       "      <td>1000.000000</td>\n",
       "      <td>2.230365e-02</td>\n",
       "    </tr>\n",
       "    <tr>\n",
       "      <th>TRDR</th>\n",
       "      <td>1000.000000</td>\n",
       "      <td>2.230365e-02</td>\n",
       "    </tr>\n",
       "    <tr>\n",
       "      <th>r1156</th>\n",
       "      <td>-932.928436</td>\n",
       "      <td>5.551115e-17</td>\n",
       "    </tr>\n",
       "    <tr>\n",
       "      <th>NDPK6n</th>\n",
       "      <td>-47.399908</td>\n",
       "      <td>2.775558e-17</td>\n",
       "    </tr>\n",
       "    <tr>\n",
       "      <th>r0409</th>\n",
       "      <td>-300.050803</td>\n",
       "      <td>2.775558e-17</td>\n",
       "    </tr>\n",
       "    <tr>\n",
       "      <th>GLYHISASNr</th>\n",
       "      <td>-265.239202</td>\n",
       "      <td>0.000000e+00</td>\n",
       "    </tr>\n",
       "    <tr>\n",
       "      <th>ASPMETASPr</th>\n",
       "      <td>-133.185800</td>\n",
       "      <td>0.000000e+00</td>\n",
       "    </tr>\n",
       "    <tr>\n",
       "      <th>ASPLYSHISr</th>\n",
       "      <td>-88.672365</td>\n",
       "      <td>0.000000e+00</td>\n",
       "    </tr>\n",
       "    <tr>\n",
       "      <th>TRPTYRTYRr</th>\n",
       "      <td>-471.115266</td>\n",
       "      <td>0.000000e+00</td>\n",
       "    </tr>\n",
       "    <tr>\n",
       "      <th>PHEPHEASNr</th>\n",
       "      <td>-452.749693</td>\n",
       "      <td>0.000000e+00</td>\n",
       "    </tr>\n",
       "    <tr>\n",
       "      <th>TRPGLYLEUr</th>\n",
       "      <td>524.987247</td>\n",
       "      <td>0.000000e+00</td>\n",
       "    </tr>\n",
       "    <tr>\n",
       "      <th>THRILEARGr</th>\n",
       "      <td>-120.959254</td>\n",
       "      <td>0.000000e+00</td>\n",
       "    </tr>\n",
       "    <tr>\n",
       "      <th>ASPLYSHISt</th>\n",
       "      <td>-88.672365</td>\n",
       "      <td>0.000000e+00</td>\n",
       "    </tr>\n",
       "    <tr>\n",
       "      <th>ASPMETASPt</th>\n",
       "      <td>-133.185800</td>\n",
       "      <td>0.000000e+00</td>\n",
       "    </tr>\n",
       "    <tr>\n",
       "      <th>GLYHISASNt</th>\n",
       "      <td>-265.239202</td>\n",
       "      <td>0.000000e+00</td>\n",
       "    </tr>\n",
       "    <tr>\n",
       "      <th>EX_trpglyleu[e]</th>\n",
       "      <td>524.987247</td>\n",
       "      <td>0.000000e+00</td>\n",
       "    </tr>\n",
       "    <tr>\n",
       "      <th>EX_thrilearg[e]</th>\n",
       "      <td>120.959254</td>\n",
       "      <td>0.000000e+00</td>\n",
       "    </tr>\n",
       "    <tr>\n",
       "      <th>ALAHISALAt</th>\n",
       "      <td>-600.562681</td>\n",
       "      <td>0.000000e+00</td>\n",
       "    </tr>\n",
       "    <tr>\n",
       "      <th>ALALYSTHRt</th>\n",
       "      <td>-693.390599</td>\n",
       "      <td>0.000000e+00</td>\n",
       "    </tr>\n",
       "    <tr>\n",
       "      <th>EX_trptyrtyr[e]</th>\n",
       "      <td>471.115266</td>\n",
       "      <td>0.000000e+00</td>\n",
       "    </tr>\n",
       "    <tr>\n",
       "      <th>ALALYSTHRr</th>\n",
       "      <td>-693.390599</td>\n",
       "      <td>0.000000e+00</td>\n",
       "    </tr>\n",
       "    <tr>\n",
       "      <th>TRPGLYLEUt</th>\n",
       "      <td>-524.987247</td>\n",
       "      <td>0.000000e+00</td>\n",
       "    </tr>\n",
       "    <tr>\n",
       "      <th>THRILEARGt</th>\n",
       "      <td>-120.959254</td>\n",
       "      <td>0.000000e+00</td>\n",
       "    </tr>\n",
       "  </tbody>\n",
       "</table>\n",
       "</div>"
      ],
      "text/plain": [
       "                      fluxes  reduced_costs\n",
       "r0391            1000.000000   8.921461e-02\n",
       "AKGDm            1000.000000   8.921461e-02\n",
       "ATPS4mi          1000.000000   8.921461e-02\n",
       "ENO              1000.000000   6.691095e-02\n",
       "PGMT             1000.000000   2.230365e-02\n",
       "GAPD             1000.000000   2.230365e-02\n",
       "EX_pi[e]         1000.000000   2.230365e-02\n",
       "TALA             1000.000000   2.230365e-02\n",
       "TRDR             1000.000000   2.230365e-02\n",
       "r1156            -932.928436   5.551115e-17\n",
       "NDPK6n            -47.399908   2.775558e-17\n",
       "r0409            -300.050803   2.775558e-17\n",
       "GLYHISASNr       -265.239202   0.000000e+00\n",
       "ASPMETASPr       -133.185800   0.000000e+00\n",
       "ASPLYSHISr        -88.672365   0.000000e+00\n",
       "TRPTYRTYRr       -471.115266   0.000000e+00\n",
       "PHEPHEASNr       -452.749693   0.000000e+00\n",
       "TRPGLYLEUr        524.987247   0.000000e+00\n",
       "THRILEARGr       -120.959254   0.000000e+00\n",
       "ASPLYSHISt        -88.672365   0.000000e+00\n",
       "ASPMETASPt       -133.185800   0.000000e+00\n",
       "GLYHISASNt       -265.239202   0.000000e+00\n",
       "EX_trpglyleu[e]   524.987247   0.000000e+00\n",
       "EX_thrilearg[e]   120.959254   0.000000e+00\n",
       "ALAHISALAt       -600.562681   0.000000e+00\n",
       "ALALYSTHRt       -693.390599   0.000000e+00\n",
       "EX_trptyrtyr[e]   471.115266   0.000000e+00\n",
       "ALALYSTHRr       -693.390599   0.000000e+00\n",
       "TRPGLYLEUt       -524.987247   0.000000e+00\n",
       "THRILEARGt       -120.959254   0.000000e+00"
      ]
     },
     "execution_count": 27,
     "metadata": {},
     "output_type": "execute_result"
    }
   ],
   "source": [
    "(sorted_results[sorted_results[\"fluxes\"] != 0.0]).head(30)"
   ]
  },
  {
   "cell_type": "code",
   "execution_count": null,
   "id": "612521ff-73e7-4ff6-b953-9e961759a352",
   "metadata": {},
   "outputs": [],
   "source": []
  }
 ],
 "metadata": {
  "kernelspec": {
   "display_name": "Python 3 (ipykernel)",
   "language": "python",
   "name": "python3"
  },
  "language_info": {
   "codemirror_mode": {
    "name": "ipython",
    "version": 3
   },
   "file_extension": ".py",
   "mimetype": "text/x-python",
   "name": "python",
   "nbconvert_exporter": "python",
   "pygments_lexer": "ipython3",
   "version": "3.10.10"
  }
 },
 "nbformat": 4,
 "nbformat_minor": 5
}
