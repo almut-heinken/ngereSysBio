{
 "cells": [
  {
   "cell_type": "code",
   "execution_count": 83,
   "id": "41c2905e-dc23-437a-a1c1-6e4459e3d51f",
   "metadata": {},
   "outputs": [],
   "source": [
    "from mewpy.io import Reader, Engines, read_model, read_json\n",
    "from mewpy.germ.analysis import get_real_initial_state, ifva, SRFBA, FBA\n",
    "import pandas as pd\n",
    "import os\n",
    "import numpy as np\n",
    "import re"
   ]
  },
  {
   "cell_type": "code",
   "execution_count": 193,
   "id": "07ec8404-1b48-4d95-8ddc-171f10db1a3b",
   "metadata": {},
   "outputs": [],
   "source": [
    "sbml_fname = \"..\\\\data\\\\models\\\\sirt1_recon3d\\\\iSIRT1.xml\"\n",
    "trn_fname = \"..\\\\data\\\\pypath\\\\regulatory_rules.csv\""
   ]
  },
  {
   "cell_type": "code",
   "execution_count": 202,
   "id": "c83e743f-8188-4f60-9302-0e1dce6ced09",
   "metadata": {},
   "outputs": [],
   "source": [
    "trn_reader = Reader(Engines.BooleanRegulatoryCSV,\n",
    "                            trn_fname, sep=',', id_col=0, rule_col=1, header=0)\n",
    "generic_recon_reader = Reader(Engines.MetabolicSBML, generic_sbml_fname)\n",
    "\n",
    "model = read_model(generic_recon_reader, trn_reader)"
   ]
  },
  {
   "cell_type": "code",
   "execution_count": 203,
   "id": "25002e06-9b82-4876-a584-1d98ff7c4235",
   "metadata": {},
   "outputs": [
    {
     "data": {
      "text/plain": [
       "{biomass_reaction || 20.650823 h2o[c] + 20.704451 atp[c] + 0.385872 glu_L[c] + 0.352607 asp_L[c] + 0.036117 gtp[c] + 0.505626 ala_L[c] + 0.279425 asn_L[c] + 0.046571 cys_L[c] + 0.325996 gln_L[c] + 0.538891 gly[c] + 0.392525 ser_L[c] + 0.31269 thr_L[c] + 0.592114 lys_L[c] + 0.35926 arg_L[c] + 0.153018 met_L[c] + 0.023315 pail_hs[c] + 0.039036 ctp[c] + 0.154463 pchol_hs[c] + 0.055374 pe_hs[c] + 0.020401 chsterol[c] + 0.002914 pglyc_hs[c] + 0.011658 clpn_hs[c] + 0.009898 dgtp[n] + 0.009442 dctp[n] + 0.013183 datp[n] + 0.053446 utp[c] + 0.013091 dttp[n] + 0.275194 g6p[c] + 0.126406 his_L[c] + 0.159671 tyr_L[c] + 0.286078 ile_L[c] + 0.545544 leu_L[c] + 0.013306 trp_L[c] + 0.259466 phe_L[c] + 0.412484 pro_L[c] + 0.005829 ps_hs[c] + 0.017486 sphmyln_hs[c] + 0.352607 val_L[c] -> 20.650823 h[c] + 20.650823 adp[c] + 20.650823 pi[c]: 1.0}"
      ]
     },
     "execution_count": 203,
     "metadata": {},
     "output_type": "execute_result"
    }
   ],
   "source": [
    "model.objective"
   ]
  },
  {
   "cell_type": "code",
   "execution_count": 204,
   "id": "ab3978a8-aa0e-45f5-8e6d-b9db73aed591",
   "metadata": {},
   "outputs": [],
   "source": [
    "from mewpy.germ.variables import Reaction"
   ]
  },
  {
   "cell_type": "code",
   "execution_count": 205,
   "id": "272de53f-5a5d-4c2a-9933-fb2d8be0e312",
   "metadata": {},
   "outputs": [],
   "source": [
    "reactions = {\n",
    "    \"DM_icit[c]\" : {\"mets\": [\"icit[c]\"], \"name\" : \"Demand Reaction for Isocitrate\"},\n",
    "    \"DM_but[c]\" : {\"mets\": [\"but[c]\"], \"name\" : \"Demand Reaction for Butyrate\"},\n",
    "    \"DM_lac[c]\" : {\"mets\": [\"lac_D[c]\", \"lac_L[c]\"], \"name\" : \"Demand Reaction for Lactate\"},\n",
    "    \"DM_pyr[c]\" : {\"mets\": [\"pyr[c]\"], \"name\" : \"Demand Reaction for Pyruvate\"},\n",
    "    \"DM_cit[c]\" : {\"mets\": [\"cit[c]\"], \"name\" : \"Demand Reaction for Citrate\"},\n",
    "    \"DM_succ[c]\" : {\"mets\": [\"succ[c]\"], \"name\" : \"Demand Reaction for Succinate\"},\n",
    "    \"DM_fum[c]\" : {\"mets\": [\"fum[c]\"], \"name\" : \"Demand Reaction for Fumarate\"},\n",
    "    \"DM_mal[c]\" : {\"mets\": [\"mal_L[c]\"], \"name\" : \"Demand Reaction for Malate\"},\n",
    "    \"DM_oaa[c]\" : {\"mets\": [\"oaa[c]\"], \"name\" : \"Demand Reaction for Oxaloacetate\"},\n",
    "    \"DM_glx[c]\" : {\"mets\": [\"glx[c]\"], \"name\" : \"Demand Reaction for Glyoxylate\"},\n",
    "    \"DM_ppa[c]\" : {\"mets\": [\"ppa[c]\"], \"name\" : \"Demand Reaction for Propionate\"},\n",
    "    \"DM_2mcit[c]\" : {\"mets\": [\"2mcit[c]\"], \"name\" : \"Demand Reaction for Methylcitrate\"},\n",
    "    \"DM_3hpp[c]\" : {\"mets\": [\"3hpp[c]\"], \"name\" : \"Demand Reaction for 3-Hydroxypropionate\"}\n",
    "}"
   ]
  },
  {
   "cell_type": "code",
   "execution_count": 206,
   "id": "8b4727bf-8275-4d80-a57f-c3312be11b31",
   "metadata": {},
   "outputs": [],
   "source": [
    "metabolites_reaction = {\n",
    "    \"DM_mets[c]\" : {\"mets\": [\"icit[c]\", \"but[c]\", \"lac_D[c]\", \"lac_L[c]\",\"pyr[c]\", \"cit[c]\", \"succ[c]\", \"fum[c]\", \"mal_L[c]\", \"oaa[c]\", \"glx[c]\", \"ppa[c]\", \"2mcit[c]\", \"3hpp[c]\"], \"name\" : \"Demand Reaction for Metabolites\"}\n",
    "}"
   ]
  },
  {
   "cell_type": "code",
   "execution_count": 207,
   "id": "5b666427-927e-4546-8fd8-2de39ffb4112",
   "metadata": {},
   "outputs": [],
   "source": [
    "for rxn_id, attrs in reactions.items():\n",
    "    stoichiometry = {}\n",
    "    \n",
    "    for metabolite_id in attrs[\"mets\"]:\n",
    "        # Retrieve the metabolite from the model\n",
    "        metabolite = model.get(metabolite_id)\n",
    "        \n",
    "        if metabolite is None:\n",
    "            # Handle the case where the metabolite is not found\n",
    "            print(f\"Warning: Metabolite '{metabolite_id}' not found in model. Skipping this reaction.\")\n",
    "            continue\n",
    "        \n",
    "        # Add the metabolite to the stoichiometry with a coefficient of -1.0 for demand reaction\n",
    "        stoichiometry[metabolite] = -1.0 # Negative for demand reaction (consuming the metabolite)\n",
    "    \n",
    "    # Create the reaction only if stoichiometry is valid (not empty)\n",
    "    if stoichiometry:\n",
    "        reaction = Reaction(identifier=rxn_id, bounds=(0, 1000), stoichiometry=stoichiometry, name=attrs[\"name\"])\n",
    "        model.add(reaction)"
   ]
  },
  {
   "cell_type": "code",
   "execution_count": 208,
   "id": "35d8a1e8-6ccb-466a-b36b-ec3301a3630e",
   "metadata": {},
   "outputs": [],
   "source": [
    "# Path to your Excel file\n",
    "file_path = \"..\\\\data\\\\caco2\\\\DMEM.xlsx\"\n",
    "df = pd.read_excel(file_path, header=2).set_index(\"Reaction ID\")\n",
    "df.columns = [\"description\", \"uptake\"]\n",
    "medium = df.to_dict()[\"uptake\"]"
   ]
  },
  {
   "cell_type": "code",
   "execution_count": 209,
   "id": "b4f25d62-ab54-470e-844d-b5918fb08bc7",
   "metadata": {},
   "outputs": [],
   "source": [
    "for ex in model.exchanges:\n",
    "    exchange = model.get(ex)\n",
    "    if ex in medium:\n",
    "        exchange.bounds = (-1*medium[ex], 1000)\n",
    "    else:\n",
    "        exchange.bounds = (0, 1000)"
   ]
  },
  {
   "cell_type": "code",
   "execution_count": 210,
   "id": "1b9dd6e8-657a-4508-8f8b-10ab034d0289",
   "metadata": {},
   "outputs": [],
   "source": [
    "def get_sirt1_expression(butyrate_flux):\n",
    "    return max(0, -1.385 * butyrate_flux + 0.879)"
   ]
  },
  {
   "cell_type": "code",
   "execution_count": 211,
   "id": "bc33313a-c34a-415c-8066-d00e6c6d1dff",
   "metadata": {},
   "outputs": [],
   "source": [
    "butyrate_flux_units = [0.000000, 0.003792, 0.012587, 0.039481, 0.212752]"
   ]
  },
  {
   "cell_type": "code",
   "execution_count": 213,
   "id": "ed2b3e98-8b34-47b4-9831-d63b75a5d8bf",
   "metadata": {
    "scrolled": true
   },
   "outputs": [
    {
     "name": "stdout",
     "output_type": "stream",
     "text": [
      "EX_but[e] bounds: (-0.0, 1000)\n",
      "DM_icit[c] 48.30000000000068\n",
      "DM_but[c] 0.0\n",
      "DM_lac[c] 37.166666666666366\n",
      "DM_pyr[c] 74.33333333333077\n",
      "DM_cit[c] 48.2999999999995\n",
      "DM_succ[c] 71.87627124182586\n",
      "DM_fum[c] 74.33333333333226\n",
      "DM_mal[c] 74.33333333333371\n",
      "DM_oaa[c] 74.33333333333265\n",
      "DM_glx[c] 139.0022336125076\n",
      "DM_ppa[c] 77.76398858992071\n",
      "DM_2mcit[c] 43.285475610933055\n",
      "DM_3hpp[c] 86.14909927051994\n",
      "EX_but[e] bounds: (-0.003792, 1000)\n",
      "DM_icit[c] 48.30303359999969\n",
      "DM_but[c] 0.003792\n",
      "DM_lac[c] 37.16856266666644\n",
      "DM_pyr[c] 74.3371253333337\n",
      "DM_cit[c] 48.30303359999884\n",
      "DM_succ[c] 71.7700035947687\n",
      "DM_fum[c] 74.33712533333437\n",
      "DM_mal[c] 74.33712533333296\n",
      "DM_oaa[c] 74.3371253333309\n",
      "DM_glx[c] 138.2265773471807\n",
      "DM_ppa[c] 77.72045255730814\n",
      "DM_2mcit[c] 43.254777774944024\n",
      "DM_3hpp[c] 85.95305545802019\n",
      "EX_but[e] bounds: (-0.012587, 1000)\n",
      "DM_icit[c] 40.810069599999544\n",
      "DM_but[c] 0.012587\n",
      "DM_lac[c] 31.756293500000226\n",
      "DM_pyr[c] 63.51258700000023\n",
      "DM_cit[c] 40.81006960000036\n",
      "DM_succ[c] 61.697438235295834\n",
      "DM_fum[c] 63.51258700000017\n",
      "DM_mal[c] 63.51258700000154\n",
      "DM_oaa[c] 63.51258699999961\n",
      "DM_glx[c] 126.52525665947523\n",
      "DM_ppa[c] 62.01074245283172\n",
      "DM_2mcit[c] 32.756293500000396\n",
      "DM_3hpp[c] 73.6094946250003\n",
      "EX_but[e] bounds: (-0.039481, 1000)\n",
      "DM_icit[c] 40.831584799999995\n",
      "DM_but[c] 0.039481\n",
      "DM_lac[c] 31.76974050000012\n",
      "DM_pyr[c] 63.53948100000023\n",
      "DM_cit[c] 40.83158480000056\n",
      "DM_succ[c] 61.7238049019616\n",
      "DM_fum[c] 63.53948100000014\n",
      "DM_mal[c] 63.53948099999979\n",
      "DM_oaa[c] 63.53948099999829\n",
      "DM_glx[c] 126.55816460485529\n",
      "DM_ppa[c] 62.03611415094073\n",
      "DM_2mcit[c] 32.76974049999929\n",
      "DM_3hpp[c] 73.64647387499986\n",
      "EX_but[e] bounds: (-0.212752, 1000)\n",
      "DM_icit[c] 40.9702015999989\n",
      "DM_but[c] 0.212752\n",
      "DM_lac[c] 31.856375999999898\n",
      "DM_pyr[c] 63.712751999999455\n",
      "DM_cit[c] 40.97020160000068\n",
      "DM_succ[c] 61.89367843137198\n",
      "DM_fum[c] 63.71275200000008\n",
      "DM_mal[c] 63.71275200000089\n",
      "DM_oaa[c] 63.71275199999991\n",
      "DM_glx[c] 126.7701818802308\n",
      "DM_ppa[c] 62.199577358487915\n",
      "DM_2mcit[c] 32.856376000000004\n",
      "DM_3hpp[c] 73.88472149999981\n"
     ]
    }
   ],
   "source": [
    "result = {}\n",
    "objective = {}\n",
    "for rxn_id in reactions.keys():\n",
    "    objective[rxn_id] = 1.0\n",
    "for i, butyrate_flux in enumerate([0.0, 0.3, 1.0, 3.0, 9.0]):\n",
    "    result[butyrate_flux] = {}\n",
    "    sirt1_expression = get_sirt1_expression(butyrate_flux)\n",
    "    real_initial_state = get_real_initial_state(model, initial_state={\"SIRT1\": sirt1_expression}, strategy=\"mean\")\n",
    "    exbut = model.get(\"EX_but[e]\")\n",
    "    exbut.bounds = (-1*butyrate_flux_units[i], 1000)\n",
    "    print(\"EX_but[e] bounds:\", exbut.bounds)\n",
    "    srfba = SRFBA(model, attach=True).build()\n",
    "    for rxn_id in reactions.keys():\n",
    "        model.objective = {rxn_id : 1.0}\n",
    "        sol = srfba.optimize(initial_state = real_initial_state)\n",
    "        result[butyrate_flux] = sol\n",
    "        print(rxn_id, sol.objective_value)"
   ]
  },
  {
   "cell_type": "code",
   "execution_count": 214,
   "id": "db0126f3-2ed3-42db-ba3d-47d0e0e8cced",
   "metadata": {},
   "outputs": [],
   "source": [
    "srfba = SRFBA(model, attach=True).build()"
   ]
  },
  {
   "cell_type": "code",
   "execution_count": null,
   "id": "1fcb38c7-f7c3-4a26-b9ef-8fd307d73c82",
   "metadata": {},
   "outputs": [
    {
     "name": "stdout",
     "output_type": "stream",
     "text": [
      "EX_but[e] bounds: (-0.0, 1000) - Sirt1 expression: 0.879\n",
      "DM_icit[c] 48.30000000000068\n",
      "DM_but[c] 0.0\n",
      "DM_lac[c] 37.166666666666366\n",
      "DM_pyr[c] 74.33333333333077\n",
      "DM_cit[c] 48.2999999999995\n",
      "DM_succ[c] 71.87627124182586\n",
      "DM_fum[c] 74.33333333333226\n",
      "DM_mal[c] 74.33333333333371\n",
      "DM_oaa[c] 74.33333333333265\n",
      "DM_glx[c] 139.0022336125076\n",
      "DM_ppa[c] 77.76398858992071\n",
      "DM_2mcit[c] 43.285475610933055\n",
      "DM_3hpp[c] 86.14909927051994\n",
      "EX_but[e] bounds: (-0.003792, 1000) - Sirt1 expression: 0.87374808\n",
      "DM_icit[c] 48.303033600001136\n",
      "DM_but[c] 0.003792\n",
      "DM_lac[c] 37.16856266666623\n",
      "DM_pyr[c] 74.33712533333403\n",
      "DM_cit[c] 48.30303359999969\n",
      "DM_succ[c] 71.87859867477027\n",
      "DM_fum[c] 74.33712533333468\n",
      "DM_mal[c] 74.33712533333271\n",
      "DM_oaa[c] 74.33712533333153\n",
      "DM_glx[c] 138.9929235093554\n",
      "DM_ppa[c] 77.7671955212192\n",
      "DM_2mcit[c] 43.287112598982844\n",
      "DM_3hpp[c] 86.15176937176878\n",
      "EX_but[e] bounds: (-0.012587, 1000) - Sirt1 expression: 0.861567005\n",
      "DM_icit[c] 48.31006960000718\n",
      "DM_but[c] 0.012587\n",
      "DM_lac[c] 37.17296016666676\n",
      "DM_pyr[c] 74.34592033333399\n",
      "DM_cit[c] 48.310069599999906\n",
      "DM_succ[c] 71.88399682157208\n",
      "DM_fum[c] 74.34592033333365\n",
      "DM_mal[c] 74.34592033333726\n",
      "DM_oaa[c] 74.34592033333104\n",
      "DM_glx[c] 138.97133006070504\n",
      "DM_ppa[c] 77.77463353829914\n",
      "DM_2mcit[c] 43.290909357922416\n",
      "DM_3hpp[c] 86.1579622885598\n",
      "EX_but[e] bounds: (-0.039481, 1000) - Sirt1 expression: 0.824318815\n",
      "DM_icit[c] 48.33158480000023\n",
      "DM_but[c] 0.039481\n",
      "DM_lac[c] 37.186407166666356\n",
      "DM_pyr[c] 74.37281433333256\n",
      "DM_cit[c] 48.331584800000996\n",
      "DM_succ[c] 71.9005036732508\n",
      "DM_fum[c] 74.3728143333343\n",
      "DM_mal[c] 74.37281433333335\n",
      "DM_oaa[c] 74.37281433333351\n",
      "DM_glx[c] 138.9053000200232\n",
      "DM_ppa[c] 77.79737805579909\n",
      "DM_2mcit[c] 43.302519367578334\n",
      "DM_3hpp[c] 86.17689944654447\n",
      "EX_but[e] bounds: (-0.212752, 1000) - Sirt1 expression: 0.58433848\n",
      "DM_icit[c] 48.470201599999825\n",
      "DM_but[c] 0.212752\n",
      "DM_lac[c] 37.273042666665845\n",
      "DM_pyr[c] 74.54608533333155\n"
     ]
    }
   ],
   "source": [
    "result = {}\n",
    "objective = {}\n",
    "for rxn_id in reactions.keys():\n",
    "    objective[rxn_id] = 1.0\n",
    "for i, butyrate_flux in enumerate([0.0, 0.3, 1.0, 3.0, 9.0]):\n",
    "    result[butyrate_flux] = {}\n",
    "    real_but_flux = butyrate_flux_units[i]\n",
    "    sirt1_expression = get_sirt1_expression(real_but_flux)\n",
    "    real_initial_state = get_real_initial_state(model, initial_state={\"SIRT1\": sirt1_expression}, strategy=\"mean\")\n",
    "    exbut = model.get(\"EX_but[e]\")\n",
    "    exbut.bounds = (-1*real_but_flux, 1000)\n",
    "    print(\"EX_but[e] bounds:\", exbut.bounds, \"- Sirt1 expression:\", sirt1_expression)\n",
    "    for rxn_id in reactions.keys():\n",
    "        model.objective = {rxn_id : 1.0}\n",
    "        sol = srfba.optimize(initial_state = real_initial_state)\n",
    "        result[butyrate_flux] = sol\n",
    "        print(rxn_id, sol.objective_value)"
   ]
  },
  {
   "cell_type": "code",
   "execution_count": 136,
   "id": "324b30c6-115e-434c-8877-7167812f54d0",
   "metadata": {},
   "outputs": [],
   "source": [
    "real_initial_state = get_real_initial_state(model, initial_state={\"SIRT1\": 1.0}, strategy=\"mean\")"
   ]
  },
  {
   "cell_type": "code",
   "execution_count": 63,
   "id": "b4549038-b21b-433f-a21d-c605797da4e5",
   "metadata": {},
   "outputs": [],
   "source": [
    "sol = srfba.optimize(initial_state = real_initial_state)"
   ]
  },
  {
   "cell_type": "code",
   "execution_count": 64,
   "id": "2123d6e4-eed3-4d79-b5b8-c3ca2af3d493",
   "metadata": {},
   "outputs": [
    {
     "data": {
      "text/plain": [
       "6.387933740700992"
      ]
     },
     "execution_count": 64,
     "metadata": {},
     "output_type": "execute_result"
    }
   ],
   "source": [
    "sol.objective_value"
   ]
  },
  {
   "cell_type": "code",
   "execution_count": 178,
   "id": "9395efc0-372b-46cf-8dca-d0b336e150b6",
   "metadata": {},
   "outputs": [],
   "source": [
    "model.objective = {\"DM_2mcit[c]\":1.0}"
   ]
  },
  {
   "cell_type": "code",
   "execution_count": 179,
   "id": "f4417042-e6f6-44d0-8887-c9fb68a13214",
   "metadata": {},
   "outputs": [],
   "source": [
    "srfba = SRFBA(model).build()"
   ]
  },
  {
   "cell_type": "code",
   "execution_count": 180,
   "id": "3386b328-de4c-4b46-b92d-d7b815a3a554",
   "metadata": {},
   "outputs": [],
   "source": [
    "sol = srfba.optimize(initial_state = real_initial_state)"
   ]
  },
  {
   "cell_type": "code",
   "execution_count": 181,
   "id": "443aa2bd-b379-475e-adc9-f5ab4fe34f84",
   "metadata": {},
   "outputs": [
    {
     "data": {
      "text/html": [
       "\n",
       "        <table>\n",
       "            <tr>\n",
       "                <td>Method</td>\n",
       "                <td>SRFBA</td>\n",
       "            </tr>\n",
       "            <tr>\n",
       "                <td>Model</td>\n",
       "                <td>Model Recon3DModel - model</td>\n",
       "            </tr>\n",
       "            <tr>\n",
       "                <th>Objective</th>\n",
       "                <td>DM_2mcit[c]</td>\n",
       "            </tr>\n",
       "            <tr>\n",
       "                <th>Objective value</th>\n",
       "                <td>1000.0</td>\n",
       "            </tr>\n",
       "            <tr>\n",
       "                <th>Status</th>\n",
       "                <td>optimal</td>\n",
       "            </tr>\n",
       "        </table>\n",
       "        "
      ],
      "text/plain": [
       "SRFBA Solution\n",
       " Objective value: 1000.0\n",
       " Status: optimal"
      ]
     },
     "execution_count": 181,
     "metadata": {},
     "output_type": "execute_result"
    }
   ],
   "source": [
    "sol"
   ]
  },
  {
   "cell_type": "code",
   "execution_count": 182,
   "id": "19439b5a-b8d6-4fdd-99ef-c0f7f65f1599",
   "metadata": {},
   "outputs": [],
   "source": [
    "series = sol.to_series()"
   ]
  },
  {
   "cell_type": "code",
   "execution_count": 183,
   "id": "7066cc8a-ce82-4eb8-abc0-fa650323cdbc",
   "metadata": {},
   "outputs": [
    {
     "name": "stdout",
     "output_type": "stream",
     "text": [
      "DM_icit[c] 0.0\n",
      "DM_but[c] 0.0\n",
      "DM_lac[c] 101.12269988993197\n",
      "DM_pyr[c] 0.0\n",
      "DM_cit[c] 1000.0\n",
      "DM_succ[c] 0.0\n",
      "DM_fum[c] 541.6730604585027\n",
      "DM_mal[c] 1000.0\n",
      "DM_oaa[c] 0.0\n",
      "DM_glx[c] 1000.0\n",
      "DM_ppa[c] 0.0\n",
      "DM_2mcit[c] 1000.0\n",
      "DM_3hpp[c] 0.0\n"
     ]
    }
   ],
   "source": [
    "for rid in reactions.keys():\n",
    "    print(rid, series[rid])"
   ]
  },
  {
   "cell_type": "code",
   "execution_count": 201,
   "id": "d66e1716-ed8d-4d89-8245-b543c07f9dbc",
   "metadata": {},
   "outputs": [
    {
     "data": {
      "text/html": [
       "\n",
       "            <table>\n",
       "                <tr><th>Identifier</th><td>biomass_reaction</td></tr><tr><th>Name</th><td></td></tr><tr><th>Aliases</th><td></td></tr><tr><th>Model</th><td>Recon3DModel</td></tr><tr><th>Types</th><td>reaction</td></tr><tr><th>Equation</th><td>20.650823 h2o[c] + 20.704451 atp[c] + 0.385872 glu_L[c] + 0.352607 asp_L[c] + 0.036117 gtp[c] + 0.505626 ala_L[c] + 0.279425 asn_L[c] + 0.046571 cys_L[c] + 0.325996 gln_L[c] + 0.538891 gly[c] + 0.392525 ser_L[c] + 0.31269 thr_L[c] + 0.592114 lys_L[c] + 0.35926 arg_L[c] + 0.153018 met_L[c] + 0.023315 pail_hs[c] + 0.039036 ctp[c] + 0.154463 pchol_hs[c] + 0.055374 pe_hs[c] + 0.020401 chsterol[c] + 0.002914 pglyc_hs[c] + 0.011658 clpn_hs[c] + 0.009898 dgtp[n] + 0.009442 dctp[n] + 0.013183 datp[n] + 0.053446 utp[c] + 0.013091 dttp[n] + 0.275194 g6p[c] + 0.126406 his_L[c] + 0.159671 tyr_L[c] + 0.286078 ile_L[c] + 0.545544 leu_L[c] + 0.013306 trp_L[c] + 0.259466 phe_L[c] + 0.412484 pro_L[c] + 0.005829 ps_hs[c] + 0.017486 sphmyln_hs[c] + 0.352607 val_L[c] -> 20.650823 h[c] + 20.650823 adp[c] + 20.650823 pi[c]</td></tr><tr><th>Bounds</th><td>(0.0, 1000.0)</td></tr><tr><th>Reversibility</th><td>False</td></tr><tr><th>Metabolites</th><td>h2o[c], atp[c], glu_L[c], asp_L[c], gtp[c], ala_L[c], asn_L[c], cys_L[c], gln_L[c], gly[c], ser_L[c], thr_L[c], lys_L[c], arg_L[c], met_L[c], pail_hs[c], ctp[c], pchol_hs[c], pe_hs[c], chsterol[c], pglyc_hs[c], clpn_hs[c], dgtp[n], dctp[n], datp[n], utp[c], dttp[n], g6p[c], his_L[c], tyr_L[c], ile_L[c], leu_L[c], trp_L[c], phe_L[c], pro_L[c], ps_hs[c], sphmyln_hs[c], val_L[c], h[c], adp[c], pi[c]</td></tr><tr><th>Boundary</th><td>False</td></tr><tr><th>GPR</th><td></td></tr><tr><th>Genes</th><td></td></tr><tr><th>Compartments</th><td>n, c</td></tr><tr><th>Charge balance</th><td>{'reactants': 0.0, 'products': 0.0}</td></tr><tr><th>Mass balance</th><td>{'H': -74.6855789999999, 'O': -23.76093500000006, 'C': -38.42408400000002, 'N': -10.034866000000108, 'P': -1.2414139999999954, 'S': -0.199589, 'F': -0.547908, 'U': -0.547908, 'L': -1.095816, 'R': -0.813119}</td></tr>\n",
       "            </table>\n",
       "        "
      ],
      "text/plain": [
       "biomass_reaction || 20.650823 h2o[c] + 20.704451 atp[c] + 0.385872 glu_L[c] + 0.352607 asp_L[c] + 0.036117 gtp[c] + 0.505626 ala_L[c] + 0.279425 asn_L[c] + 0.046571 cys_L[c] + 0.325996 gln_L[c] + 0.538891 gly[c] + 0.392525 ser_L[c] + 0.31269 thr_L[c] + 0.592114 lys_L[c] + 0.35926 arg_L[c] + 0.153018 met_L[c] + 0.023315 pail_hs[c] + 0.039036 ctp[c] + 0.154463 pchol_hs[c] + 0.055374 pe_hs[c] + 0.020401 chsterol[c] + 0.002914 pglyc_hs[c] + 0.011658 clpn_hs[c] + 0.009898 dgtp[n] + 0.009442 dctp[n] + 0.013183 datp[n] + 0.053446 utp[c] + 0.013091 dttp[n] + 0.275194 g6p[c] + 0.126406 his_L[c] + 0.159671 tyr_L[c] + 0.286078 ile_L[c] + 0.545544 leu_L[c] + 0.013306 trp_L[c] + 0.259466 phe_L[c] + 0.412484 pro_L[c] + 0.005829 ps_hs[c] + 0.017486 sphmyln_hs[c] + 0.352607 val_L[c] -> 20.650823 h[c] + 20.650823 adp[c] + 20.650823 pi[c]"
      ]
     },
     "execution_count": 201,
     "metadata": {},
     "output_type": "execute_result"
    }
   ],
   "source": [
    "model.get(\"biomass_reaction\")"
   ]
  },
  {
   "cell_type": "code",
   "execution_count": null,
   "id": "855e94e2-4cea-4efe-b645-3ea61da27a9d",
   "metadata": {},
   "outputs": [],
   "source": []
  }
 ],
 "metadata": {
  "kernelspec": {
   "display_name": "Python 3 (ipykernel)",
   "language": "python",
   "name": "python3"
  },
  "language_info": {
   "codemirror_mode": {
    "name": "ipython",
    "version": 3
   },
   "file_extension": ".py",
   "mimetype": "text/x-python",
   "name": "python",
   "nbconvert_exporter": "python",
   "pygments_lexer": "ipython3",
   "version": "3.10.10"
  }
 },
 "nbformat": 4,
 "nbformat_minor": 5
}
